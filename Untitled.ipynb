{
 "cells": [
  {
   "cell_type": "markdown",
   "metadata": {},
   "source": [
    "# Task 2. Quantum circuit to produce the $\\frac{1}{\\sqrt{2}}( |01> + |10>)$ bell state\n",
    "\n",
    "The task asks to build a circuit producen the bell state where the parameters of the gates are found using an optimizer. I will use the PennyLane framework to compute the gradient of the circuit. The beginning point for the circuit is the following:"
   ]
  },
  {
   "cell_type": "code",
   "execution_count": 3,
   "metadata": {},
   "outputs": [
    {
     "data": {
      "image/png": "[encoded data removed]",
      "text/plain": [
       "<Figure size 261.032x144.48 with 1 Axes>"
      ]
     },
     "execution_count": 3,
     "metadata": {},
     "output_type": "execute_result"
    }
   ],
   "source": [
    "from qiskit import *\n",
    "import pennylane as qml\n",
    "from pennylane import numpy as np\n",
    "import matplotlib.pyplot as plt\n",
    "from pennylane_cirq import ops as cirq_ops\n",
    "import matplotlib.pyplot as plt\n",
    "\n",
    "circ = QuantumCircuit(2)\n",
    "circ.rx(np.pi,1)\n",
    "circ.h(0)\n",
    "circ.cx(0,1)\n",
    "circ.draw('mpl')"
   ]
  },
  {
   "cell_type": "markdown",
   "metadata": {},
   "source": [
    "This circuit would give us the required bell state. We can express the previous circuit in terms of only Rx, Ry and C-Not gates in the following way:"
   ]
  },
  {
   "cell_type": "code",
   "execution_count": 2,
   "metadata": {},
   "outputs": [
    {
     "data": {
      "image/png": "[encoded data removed]",
      "text/plain": [
       "<Figure size 321.232x144.48 with 1 Axes>"
      ]
     },
     "execution_count": 2,
     "metadata": {},
     "output_type": "execute_result"
    }
   ],
   "source": [
    "circ = QuantumCircuit(2)\n",
    "circ.rx(np.pi,1)\n",
    "circ.ry(np.pi/2,0)\n",
    "circ.rx(np.pi,0)\n",
    "circ.cx(0,1)\n",
    "circ.draw('mpl')\n",
    "\n"
   ]
  },
  {
   "cell_type": "markdown",
   "metadata": {},
   "source": [
    "The goal is to start with random angles in the gates and optimize the circuit to produce the $\\frac{1}{\\sqrt{2}}( |01> + |10>)$ state. We can measure the probability of the |01> and |10> from the previous circuit, but how could we measure the relative phase to make sure we produce the desired bell state? For this, I'll add to the previous circuit a bell state analyzer. A measurement in the Z-basis in this analyzer will output the values (+1,-1) for the qubits 0,1 ONLY if the input state is $\\frac{1}{\\sqrt{2}}( |01> + |10>)$. Thus, we can add terms related with this two measurement in the cost function in order to make sure the circuit produces the desired state.\n",
    "\n",
    "To implement noise, I used the backend 'mixedsimulator' from CirqOps, making the bits flip with a probability p right before the measurement in both circuits. For the cost function, I used a simple absolute value function. "
   ]
  },
  {
   "cell_type": "code",
   "execution_count": null,
   "metadata": {},
   "outputs": [
    {
     "name": "stdout",
     "output_type": "stream",
     "text": [
      "---------------Number of shots: 1------------------\n",
      "\n",
      "Optimized rotation angles (in units of pi): [-1.13877683  0.34520297 -0.53514751 -0.32502209  0.04225319]\n",
      "Probability of each state in the computational base: [0. 0. 1. 0.]\n",
      "Result of the bell state analyzer: [ 1. -1.]\n"
     ]
    },
    {
     "data": {
      "image/png": "[encoded data removed]",
      "text/plain": [
       "<Figure size 432x288 with 1 Axes>"
      ]
     },
     "metadata": {
      "needs_background": "light"
     },
     "output_type": "display_data"
    }
   ],
   "source": [
    "for shot in [1,10,100,1000]: # number of measurements\n",
    "    \n",
    "    dev1 = qml.device(\"cirq.mixedsimulator\", wires=2, shots = shot, analytic=False) \n",
    "    \n",
    "    \n",
    "    #-------------------Building the circuits------------------\n",
    "    \n",
    "    p = 0.05 #5% probability of flipping a bit\n",
    "\n",
    "    \n",
    "    def ansatz(params): #\n",
    "        qml.RX(params[0], wires=1) \n",
    "        qml.RY(params[1], wires=0) \n",
    "        qml.RX(params[2], wires=0) \n",
    "        cirq_ops.BitFlip(p, wires=0)\n",
    "        cirq_ops.BitFlip(p, wires=1)\n",
    "        qml.CNOT(wires =[0,1]) \n",
    "    \n",
    "\n",
    "    @qml.qnode(dev1) \n",
    "    def circuit1(params):\n",
    "        ansatz(params)\n",
    "        return qml.probs(wires=[0,1])\n",
    "\n",
    "\n",
    "    @qml.qnode(dev1) \n",
    "    def circuit2(params):  #bell state analyzer\n",
    "        ansatz(params)\n",
    "        qml.CNOT(wires =[0,1]) \n",
    "        qml.RY(params[3], wires=0) \n",
    "        qml.RX(params[4], wires=0) \n",
    "        cirq_ops.BitFlip(p, wires=0)\n",
    "        cirq_ops.BitFlip(p, wires=1)\n",
    "        return qml.expval(qml.PauliZ(0)), qml.expval(qml.PauliZ(1))\n",
    "\n",
    "\n",
    "    #-----------------Setting up the optimizer--------------\n",
    "    \n",
    "      \n",
    "    def cost(params):  #Cost function \n",
    "        cost =  abs(circuit1(params)[0]) + abs(circuit1(params)[3]) + abs(0.5-circuit1(params)[1])+abs(0.5-circuit1(params)[2]) + abs(1-circuit2(params)[0]) + abs(1+circuit2(params)[1])\n",
    "        return cost\n",
    "\n",
    "    opt = qml.GradientDescentOptimizer(stepsize=0.1) #Gradient descent\n",
    "    iteration=200\n",
    "    itrationlist=[]\n",
    "    params = np.random.rand(5)/10 #initialize parameters\n",
    "\n",
    "    costs=[]\n",
    "\n",
    "    for i in range(iteration):\n",
    "        # update the circuit parameters\n",
    "        params = opt.step(cost, params)\n",
    "        if (i + 1) % 10 == 0:\n",
    "            iterationlist.append(i)\n",
    "            costs.append(cost(params))\n",
    "            #print(\"Cost after step {:5d}: {: .7f}\".format(i + 1, cost(params)))\n",
    "    print(f'---------------Number of shots: {shot}------------------')\n",
    "    print()\n",
    "    print(\"Optimized rotation angles (in units of pi): {}\".format(params/np.pi))\n",
    "    print('Probability of each state in the computational base:',circuit1(params))\n",
    "    print('Result of the bell state analyzer:', circuit2(params))\n",
    "    \n",
    "    plt.plot(stepslist,costs,'-*', label = f'Number of shots:{shot}')\n",
    "    plt.legend()\n",
    "    plt.xlabel('Number of optimizer steps')\n",
    "    plt.ylabel('Cost function')\n",
    "    plt.show()\n",
    "  "
   ]
  },
  {
   "cell_type": "markdown",
   "metadata": {},
   "source": [
    "We can see that the more number of measurements we do, the lower the cost function gets, as we would expect."
   ]
  },
  {
   "cell_type": "code",
   "execution_count": null,
   "metadata": {},
   "outputs": [],
   "source": []
  }
 ],
 "metadata": {
  "kernelspec": {
   "display_name": "Python 3",
   "language": "python",
   "name": "python3"
  },
  "language_info": {
   "codemirror_mode": {
    "name": "ipython",
    "version": 3
   },
   "file_extension": ".py",
   "mimetype": "text/x-python",
   "name": "python",
   "nbconvert_exporter": "python",
   "pygments_lexer": "ipython3",
   "version": "3.8.2"
  }
 },
 "nbformat": 4,
 "nbformat_minor": 4
}
